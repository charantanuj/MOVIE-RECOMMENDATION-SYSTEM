{
  "nbformat": 4,
  "nbformat_minor": 0,
  "metadata": {
    "kernelspec": {
      "display_name": "Python 3",
      "language": "python",
      "name": "python3"
    },
    "language_info": {
      "codemirror_mode": {
        "name": "ipython",
        "version": 3
      },
      "file_extension": ".py",
      "mimetype": "text/x-python",
      "name": "python",
      "nbconvert_exporter": "python",
      "pygments_lexer": "ipython3",
      "version": "3.8.3"
    },
    "colab": {
      "name": "Movie_Recommender_System_FINAL.ipynb",
      "provenance": [],
      "collapsed_sections": [],
      "toc_visible": true
    }
  },
  "cells": [
    {
      "cell_type": "markdown",
      "metadata": {
        "id": "U_gRg2A71nCk"
      },
      "source": [
        "# Import libraries"
      ]
    },
    {
      "cell_type": "code",
      "metadata": {
        "colab": {
          "base_uri": "https://localhost:8080/"
        },
        "id": "Q3_zV8fd1tIX",
        "outputId": "7ffa7e85-3c2c-4857-ff0b-0f6b832a1687"
      },
      "source": [
        "!pip install pyspark"
      ],
      "execution_count": null,
      "outputs": [
        {
          "output_type": "stream",
          "text": [
            "Collecting pyspark\n",
            "\u001b[?25l  Downloading https://files.pythonhosted.org/packages/45/b0/9d6860891ab14a39d4bddf80ba26ce51c2f9dc4805e5c6978ac0472c120a/pyspark-3.1.1.tar.gz (212.3MB)\n",
            "\u001b[K     |████████████████████████████████| 212.3MB 69kB/s \n",
            "\u001b[?25hCollecting py4j==0.10.9\n",
            "\u001b[?25l  Downloading https://files.pythonhosted.org/packages/9e/b6/6a4fb90cd235dc8e265a6a2067f2a2c99f0d91787f06aca4bcf7c23f3f80/py4j-0.10.9-py2.py3-none-any.whl (198kB)\n",
            "\u001b[K     |████████████████████████████████| 204kB 18.2MB/s \n",
            "\u001b[?25hBuilding wheels for collected packages: pyspark\n",
            "  Building wheel for pyspark (setup.py) ... \u001b[?25l\u001b[?25hdone\n",
            "  Created wheel for pyspark: filename=pyspark-3.1.1-py2.py3-none-any.whl size=212767604 sha256=4fbf7839f5cb4f1a8106bfa424ebea63677f954bdbed732cab9acc996bf349ec\n",
            "  Stored in directory: /root/.cache/pip/wheels/0b/90/c0/01de724414ef122bd05f056541fb6a0ecf47c7ca655f8b3c0f\n",
            "Successfully built pyspark\n",
            "Installing collected packages: py4j, pyspark\n",
            "Successfully installed py4j-0.10.9 pyspark-3.1.1\n"
          ],
          "name": "stdout"
        }
      ]
    },
    {
      "cell_type": "code",
      "metadata": {
        "id": "mhNVEXpP1nCs"
      },
      "source": [
        "from pyspark.sql import SparkSession\n",
        "spark = SparkSession.builder.appName(\"Recommender System\").config(\"spark.sql.crossJoin.enabled\",\"true\").getOrCreate()"
      ],
      "execution_count": null,
      "outputs": []
    },
    {
      "cell_type": "code",
      "metadata": {
        "id": "CR0sCFRs1nCt"
      },
      "source": [
        "from pyspark.ml.recommendation import ALS\n",
        "from pyspark.ml.evaluation import RegressionEvaluator\n",
        "from pyspark.sql import functions as f"
      ],
      "execution_count": null,
      "outputs": []
    },
    {
      "cell_type": "markdown",
      "metadata": {
        "id": "2zwNYJt51nCt"
      },
      "source": [
        "# Load and verify data"
      ]
    },
    {
      "cell_type": "code",
      "metadata": {
        "id": "qoFUarnQ1nCt"
      },
      "source": [
        "from pyspark.sql.types import StringType, DoubleType, IntegerType, StructType, StructField\n",
        "schema = StructType([StructField('userId', IntegerType(), True),\n",
        "                     StructField('movieId', IntegerType(), True),\n",
        "                     StructField('rating', IntegerType(), True),\n",
        "                     StructField('timestamp', DoubleType(), True)])\n"
      ],
      "execution_count": null,
      "outputs": []
    },
    {
      "cell_type": "code",
      "metadata": {
        "id": "r7hIxsuV1nCu"
      },
      "source": [
        "data = spark.read.csv('/content/ratings.dat',sep = '::', header = False, schema = schema)"
      ],
      "execution_count": null,
      "outputs": []
    },
    {
      "cell_type": "code",
      "metadata": {
        "colab": {
          "base_uri": "https://localhost:8080/"
        },
        "id": "XUxdCtpl1nCu",
        "outputId": "03c00c6d-98d9-46b9-8a1c-ea581e542ead"
      },
      "source": [
        "data.printSchema()"
      ],
      "execution_count": null,
      "outputs": [
        {
          "output_type": "stream",
          "text": [
            "root\n",
            " |-- userId: integer (nullable = true)\n",
            " |-- movieId: integer (nullable = true)\n",
            " |-- rating: integer (nullable = true)\n",
            " |-- timestamp: double (nullable = true)\n",
            "\n"
          ],
          "name": "stdout"
        }
      ]
    },
    {
      "cell_type": "code",
      "metadata": {
        "colab": {
          "base_uri": "https://localhost:8080/"
        },
        "id": "BXdgC_1Q1nCv",
        "outputId": "652399c6-3d49-467e-f15f-d0323ec51109"
      },
      "source": [
        "data.head(3)"
      ],
      "execution_count": null,
      "outputs": [
        {
          "output_type": "execute_result",
          "data": {
            "text/plain": [
              "[Row(userId=1, movieId=1193, rating=5, timestamp=978300760.0),\n",
              " Row(userId=1, movieId=661, rating=3, timestamp=978302109.0),\n",
              " Row(userId=1, movieId=914, rating=3, timestamp=978301968.0)]"
            ]
          },
          "metadata": {
            "tags": []
          },
          "execution_count": 7
        }
      ]
    },
    {
      "cell_type": "code",
      "metadata": {
        "colab": {
          "base_uri": "https://localhost:8080/"
        },
        "id": "U5YUsYwF1nCv",
        "outputId": "0b6e6133-54ef-4d60-cf01-16f79b1b9fd2"
      },
      "source": [
        "for item in data.head(1)[0]:\n",
        "    print(item)"
      ],
      "execution_count": null,
      "outputs": [
        {
          "output_type": "stream",
          "text": [
            "1\n",
            "1193\n",
            "5\n",
            "978300760.0\n"
          ],
          "name": "stdout"
        }
      ]
    },
    {
      "cell_type": "code",
      "metadata": {
        "colab": {
          "base_uri": "https://localhost:8080/"
        },
        "id": "HYZVZOYq1nCw",
        "outputId": "ec9fee16-e51f-409b-c811-e1677fdad707"
      },
      "source": [
        "data.columns"
      ],
      "execution_count": null,
      "outputs": [
        {
          "output_type": "execute_result",
          "data": {
            "text/plain": [
              "['userId', 'movieId', 'rating', 'timestamp']"
            ]
          },
          "metadata": {
            "tags": []
          },
          "execution_count": 9
        }
      ]
    },
    {
      "cell_type": "code",
      "metadata": {
        "colab": {
          "base_uri": "https://localhost:8080/"
        },
        "id": "l5XdQAiT1nCw",
        "outputId": "26ad951d-ab93-46ab-a20e-508761dbe111"
      },
      "source": [
        "data.describe().show()"
      ],
      "execution_count": null,
      "outputs": [
        {
          "output_type": "stream",
          "text": [
            "+-------+------------------+------------------+------------------+--------------------+\n",
            "|summary|            userId|           movieId|            rating|           timestamp|\n",
            "+-------+------------------+------------------+------------------+--------------------+\n",
            "|  count|           1000209|           1000209|           1000209|             1000209|\n",
            "|   mean| 3024.512347919285|1865.5398981612843| 3.581564453029317| 9.722436954046655E8|\n",
            "| stddev|1728.4126948999626|1096.0406894572563|1.1171018453732653|1.2152558939921828E7|\n",
            "|    min|                 1|                 1|                 1|        9.56703932E8|\n",
            "|    max|              6040|              3952|                 5|        1.04645459E9|\n",
            "+-------+------------------+------------------+------------------+--------------------+\n",
            "\n"
          ],
          "name": "stdout"
        }
      ]
    },
    {
      "cell_type": "markdown",
      "metadata": {
        "id": "EcD4pUY51nCx"
      },
      "source": [
        "# Train Test split"
      ]
    },
    {
      "cell_type": "code",
      "metadata": {
        "id": "cH5KMbvs1nCx"
      },
      "source": [
        "train_data,test_data = data.randomSplit([0.7,0.3])"
      ],
      "execution_count": null,
      "outputs": []
    },
    {
      "cell_type": "code",
      "metadata": {
        "colab": {
          "base_uri": "https://localhost:8080/"
        },
        "id": "kTylu3JA1nCy",
        "outputId": "daabe887-af55-4347-b31a-57f54dcf9ddf"
      },
      "source": [
        "train_data.describe().show()"
      ],
      "execution_count": null,
      "outputs": [
        {
          "output_type": "stream",
          "text": [
            "+-------+------------------+------------------+------------------+--------------------+\n",
            "|summary|            userId|           movieId|            rating|           timestamp|\n",
            "+-------+------------------+------------------+------------------+--------------------+\n",
            "|  count|            700645|            700645|            700645|              700645|\n",
            "|   mean|3025.8179134939946|1864.4839369438162|3.5806563951787282| 9.722400821280506E8|\n",
            "| stddev| 1727.604350903678| 1096.210770969995| 1.117081405963871|1.2154209165474277E7|\n",
            "|    min|                 1|                 1|                 1|        9.56703932E8|\n",
            "|    max|              6040|              3952|                 5|        1.04645459E9|\n",
            "+-------+------------------+------------------+------------------+--------------------+\n",
            "\n"
          ],
          "name": "stdout"
        }
      ]
    },
    {
      "cell_type": "code",
      "metadata": {
        "colab": {
          "base_uri": "https://localhost:8080/"
        },
        "id": "cAp5D-W31nCy",
        "outputId": "d22f260b-94e4-4276-aeb5-e8012704da39"
      },
      "source": [
        "test_data.describe().show()"
      ],
      "execution_count": null,
      "outputs": [
        {
          "output_type": "stream",
          "text": [
            "+-------+-----------------+------------------+------------------+--------------------+\n",
            "|summary|           userId|           movieId|            rating|           timestamp|\n",
            "+-------+-----------------+------------------+------------------+--------------------+\n",
            "|  count|           299564|            299564|            299564|              299564|\n",
            "|   mean|3021.458783431921|1868.0096673832636| 3.583688293653443| 9.722521464341409E8|\n",
            "| stddev|1730.300880946896|1095.6406411732778|1.1171486318358028|1.2148714467659233E7|\n",
            "|    min|                1|                 1|                 1|        9.56703954E8|\n",
            "|    max|             6040|              3952|                 5|        1.04645426E9|\n",
            "+-------+-----------------+------------------+------------------+--------------------+\n",
            "\n"
          ],
          "name": "stdout"
        }
      ]
    },
    {
      "cell_type": "markdown",
      "metadata": {
        "id": "oR1NcU1-1nCy"
      },
      "source": [
        "# Build Model"
      ]
    },
    {
      "cell_type": "code",
      "metadata": {
        "id": "RwJUr3G61nCy"
      },
      "source": [
        "recommender = ALS(maxIter = 5, regParam = 0.01, userCol='userId', itemCol='movieId', ratingCol='rating')"
      ],
      "execution_count": null,
      "outputs": []
    },
    {
      "cell_type": "code",
      "metadata": {
        "id": "yQmlQwVD1nCz"
      },
      "source": [
        "model = recommender.fit(train_data)"
      ],
      "execution_count": null,
      "outputs": []
    },
    {
      "cell_type": "markdown",
      "metadata": {
        "id": "BMKEJ5eb1nCz"
      },
      "source": [
        "# Evaluate Model"
      ]
    },
    {
      "cell_type": "code",
      "metadata": {
        "id": "j2RQ0Vv-1nCz"
      },
      "source": [
        "pred_data = model.transform(test_data)"
      ],
      "execution_count": null,
      "outputs": []
    },
    {
      "cell_type": "code",
      "metadata": {
        "colab": {
          "base_uri": "https://localhost:8080/"
        },
        "id": "dtavH9bI1nCz",
        "outputId": "42dc6abe-c099-4e1e-a0a9-04c4d1d38264"
      },
      "source": [
        "evaluator = RegressionEvaluator(metricName='rmse',labelCol='rating',predictionCol='prediction')\n",
        "print(\"Root-mean-square error = \" + str(evaluator.evaluate(pred_data)))"
      ],
      "execution_count": null,
      "outputs": [
        {
          "output_type": "stream",
          "text": [
            "Root-mean-square error = nan\n"
          ],
          "name": "stdout"
        }
      ]
    },
    {
      "cell_type": "code",
      "metadata": {
        "colab": {
          "base_uri": "https://localhost:8080/"
        },
        "id": "uQ4kCdtm1nC0",
        "outputId": "53bae847-7ed9-45d2-e668-4f8516338422"
      },
      "source": [
        "avgRatings = data.select('rating').groupBy().avg().first()[0]\n",
        "print ('The average rating in the dataset is: {}'.format(avgRatings))"
      ],
      "execution_count": null,
      "outputs": [
        {
          "output_type": "stream",
          "text": [
            "The average rating in the dataset is: 3.581564453029317\n"
          ],
          "name": "stdout"
        }
      ]
    },
    {
      "cell_type": "code",
      "metadata": {
        "colab": {
          "base_uri": "https://localhost:8080/"
        },
        "id": "DaG8qKSZ1nC2",
        "outputId": "6d6b0bb6-8f21-4e99-dc10-2a7fcd000b30"
      },
      "source": [
        "evaluator = RegressionEvaluator(metricName='rmse', labelCol='rating', predictionCol='prediction')\n",
        "print ('The root mean squared error for our model is: {}'.format(evaluator.evaluate(pred_data.na.fill(avgRatings))))"
      ],
      "execution_count": null,
      "outputs": [
        {
          "output_type": "stream",
          "text": [
            "The root mean squared error for our model is: 0.9094308038080811\n"
          ],
          "name": "stdout"
        }
      ]
    },
    {
      "cell_type": "code",
      "metadata": {
        "colab": {
          "base_uri": "https://localhost:8080/"
        },
        "id": "caH3YeOG1nC2",
        "outputId": "ef4ddbbf-72e8-4453-d03c-38e983894a0b"
      },
      "source": [
        "evaluator = RegressionEvaluator(metricName='rmse', labelCol='rating', predictionCol='prediction')\n",
        "print ('The root mean squared error for our model is: {}'.format(evaluator.evaluate(pred_data.na.drop())))"
      ],
      "execution_count": null,
      "outputs": [
        {
          "output_type": "stream",
          "text": [
            "The root mean squared error for our model is: 0.9092248779785612\n"
          ],
          "name": "stdout"
        }
      ]
    },
    {
      "cell_type": "markdown",
      "metadata": {
        "id": "dZK0gYWP1nC3"
      },
      "source": [
        "# Define Movie details "
      ]
    },
    {
      "cell_type": "code",
      "metadata": {
        "colab": {
          "base_uri": "https://localhost:8080/"
        },
        "id": "JGF45ZoN1nC3",
        "outputId": "98c88c20-0f6c-45e9-8550-8ea938eecada"
      },
      "source": [
        "schema = StructType([StructField('movieId', IntegerType(), True),\n",
        "                     StructField('title', StringType(), True),\n",
        "                     StructField('genres', StringType(), True)])\n",
        "movieDetails = spark.read.csv('movies.dat',sep = '::', header = False, schema = schema)\n",
        "movieDetails.printSchema()"
      ],
      "execution_count": null,
      "outputs": [
        {
          "output_type": "stream",
          "text": [
            "root\n",
            " |-- movieId: integer (nullable = true)\n",
            " |-- title: string (nullable = true)\n",
            " |-- genres: string (nullable = true)\n",
            "\n"
          ],
          "name": "stdout"
        }
      ]
    },
    {
      "cell_type": "code",
      "metadata": {
        "colab": {
          "base_uri": "https://localhost:8080/"
        },
        "id": "U1O93nSs1nC4",
        "outputId": "e23450d1-c070-4829-8d15-11ca60a8547e"
      },
      "source": [
        "movieDetails.head(3)"
      ],
      "execution_count": null,
      "outputs": [
        {
          "output_type": "execute_result",
          "data": {
            "text/plain": [
              "[Row(movieId=1, title='Toy Story (1995)', genres=\"Animation|Children's|Comedy\"),\n",
              " Row(movieId=2, title='Jumanji (1995)', genres=\"Adventure|Children's|Fantasy\"),\n",
              " Row(movieId=3, title='Grumpier Old Men (1995)', genres='Comedy|Romance')]"
            ]
          },
          "metadata": {
            "tags": []
          },
          "execution_count": 97
        }
      ]
    },
    {
      "cell_type": "code",
      "metadata": {
        "colab": {
          "base_uri": "https://localhost:8080/"
        },
        "id": "MOrAlDwy1nC4",
        "outputId": "58ae55ef-0261-4ae8-a774-96e12c20e1cd"
      },
      "source": [
        "schema = StructType([StructField('UserID', IntegerType(), True),\n",
        "                     StructField('Gender', StringType(), True),\n",
        "                     StructField('Age', IntegerType(), True),\n",
        "                     StructField('Occupation', IntegerType(), True),\n",
        "                     StructField('Zipcode', IntegerType(), True)])\n",
        "occupation ={\n",
        "  0:  \"other\", \n",
        "  1:  \"academic/educator\",\n",
        "  2:  \"artist\",\n",
        "  3:  \"clerical/admin\",\n",
        "  4:  \"college/grad student\",\n",
        "  5:  \"customer service\",\n",
        "  6:  \"doctor/health care\",\n",
        "  7:  \"executive/managerial\",\n",
        "  8:  \"farmer\",\n",
        "  9:  \"homemaker\",\n",
        " 10:  \"K-12 student\",\n",
        " 11:  \"lawyer\",\n",
        " 12:  \"programmer\",\n",
        " 13:  \"retired\",\n",
        " 14:  \"sales/marketing\",\n",
        " 15:  \"scientist\",\n",
        " 16:  \"self-employed\",\n",
        " 17:  \"technician/engineer\",\n",
        " 18:  \"tradesman/craftsman\",\n",
        " 19:  \"unemployed\",\n",
        " 20:  \"writer\"  \n",
        "    \n",
        "}\n",
        "userDetails = spark.read.csv('users.dat',sep = '::', header = False, schema = schema)\n",
        "userDetails.printSchema()"
      ],
      "execution_count": null,
      "outputs": [
        {
          "output_type": "stream",
          "text": [
            "root\n",
            " |-- UserID: integer (nullable = true)\n",
            " |-- Gender: string (nullable = true)\n",
            " |-- Age: integer (nullable = true)\n",
            " |-- Occupation: integer (nullable = true)\n",
            " |-- Zipcode: integer (nullable = true)\n",
            "\n"
          ],
          "name": "stdout"
        }
      ]
    },
    {
      "cell_type": "code",
      "metadata": {
        "colab": {
          "base_uri": "https://localhost:8080/"
        },
        "id": "Zyaa1YMv1nC5",
        "outputId": "f8f7f304-fcc9-4be5-9a1b-34b0679686cd"
      },
      "source": [
        "userDetails.head(3)"
      ],
      "execution_count": null,
      "outputs": [
        {
          "output_type": "execute_result",
          "data": {
            "text/plain": [
              "[Row(UserID=1, Gender='F', Age=1, Occupation=10, Zipcode=48067),\n",
              " Row(UserID=2, Gender='M', Age=56, Occupation=16, Zipcode=70072),\n",
              " Row(UserID=3, Gender='M', Age=25, Occupation=15, Zipcode=55117)]"
            ]
          },
          "metadata": {
            "tags": []
          },
          "execution_count": 99
        }
      ]
    },
    {
      "cell_type": "markdown",
      "metadata": {
        "id": "tikuhDgo1nC5"
      },
      "source": [
        "# Movie recommendations "
      ]
    },
    {
      "cell_type": "code",
      "metadata": {
        "colab": {
          "base_uri": "https://localhost:8080/"
        },
        "id": "yFoqOtAI1nC5",
        "outputId": "9ada388e-0cff-4aa2-efcc-e0998eab487b"
      },
      "source": [
        "\n",
        "userRecs = model.recommendForAllUsers(13)\n",
        "userRecs.show(20, False)"
      ],
      "execution_count": null,
      "outputs": [
        {
          "output_type": "stream",
          "text": [
            "+------+--------------------------------------------------------------------------------------------------------------------------------------------------------------------------------------------------------------------------------------------------+\n",
            "|userId|recommendations                                                                                                                                                                                                                                   |\n",
            "+------+--------------------------------------------------------------------------------------------------------------------------------------------------------------------------------------------------------------------------------------------------+\n",
            "|1580  |[{1574, 8.63148}, {1846, 8.37485}, {2482, 8.179921}, {2129, 7.9769564}, {283, 7.6768317}, {681, 7.6043105}, {1749, 7.541596}, {1310, 7.5154037}, {1904, 7.464633}, {152, 7.4041233}, {2063, 7.316945}, {2156, 7.267761}, {3344, 7.2536316}]       |\n",
            "|4900  |[{1846, 10.254635}, {876, 9.466417}, {3775, 9.447867}, {2776, 8.783306}, {526, 8.732545}, {2323, 8.626816}, {1504, 8.562994}, {1669, 8.558927}, {1406, 8.500975}, {2933, 8.47874}, {1809, 8.47716}, {2760, 8.3314}, {411, 8.321511}]              |\n",
            "|5300  |[{2933, 6.2454147}, {3862, 6.0543795}, {557, 5.7669897}, {2129, 5.7041345}, {3416, 5.6975193}, {1232, 5.48309}, {2963, 5.4634175}, {1534, 5.4455986}, {1076, 5.3692207}, {1138, 5.3632603}, {602, 5.3322105}, {3880, 5.291924}, {3224, 5.28135}]  |\n",
            "|471   |[{1038, 8.407991}, {3192, 8.259171}, {1809, 7.6494403}, {980, 7.569537}, {1421, 7.4943953}, {1893, 7.3617687}, {939, 7.1777763}, {1859, 7.150194}, {1502, 7.0312266}, {807, 6.9439263}, {3010, 6.9250145}, {3092, 6.860435}, {1493, 6.80361}]     |\n",
            "|1591  |[{3862, 6.807499}, {2305, 6.684428}, {2964, 6.374701}, {1585, 6.2085247}, {184, 6.13377}, {2682, 6.097682}, {2129, 6.0270824}, {3224, 5.9724336}, {2503, 5.916614}, {1874, 5.8788123}, {3349, 5.868344}, {1534, 5.8433504}, {846, 5.836096}]      |\n",
            "|4101  |[{3850, 8.87142}, {1857, 8.548831}, {1749, 8.3042965}, {2129, 8.113391}, {1846, 7.843016}, {3587, 7.327655}, {1817, 7.3129215}, {1539, 7.2475386}, {2998, 7.0410395}, {3847, 6.836432}, {2675, 6.833012}, {129, 6.823145}, {1477, 6.766351}]      |\n",
            "|1342  |[{2175, 6.754769}, {632, 6.729948}, {1846, 6.1823997}, {2964, 6.1111116}, {1809, 5.8455124}, {2715, 5.7987247}, {2931, 5.7767296}, {3382, 5.6497164}, {2933, 5.567224}, {598, 5.410468}, {2562, 5.401138}, {2834, 5.3179407}, {1169, 5.197965}]   |\n",
            "|2122  |[{2911, 6.950841}, {864, 5.9000177}, {1471, 5.8596916}, {2830, 5.5980015}, {3310, 5.3078794}, {3849, 5.300429}, {937, 5.186584}, {238, 5.170418}, {2904, 5.1586742}, {953, 5.0843544}, {632, 5.063061}, {2610, 5.033643}, {213, 5.025817}]        |\n",
            "|2142  |[{632, 6.5715785}, {2715, 6.366902}, {1567, 5.9304647}, {1872, 5.9241266}, {1780, 5.6195536}, {3492, 5.5654387}, {3532, 5.5473595}, {864, 5.382497}, {561, 5.3349066}, {96, 5.290102}, {59, 5.271012}, {449, 5.1843853}, {2175, 5.1693096}]       |\n",
            "|463   |[{1002, 8.234568}, {2931, 7.6637316}, {3192, 7.222236}, {2175, 6.8177876}, {2342, 6.748116}, {1421, 6.5931807}, {2185, 6.4499674}, {2610, 6.4150486}, {3349, 6.3901415}, {1872, 6.3573456}, {771, 6.312378}, {214, 6.262116}, {3338, 6.221148}]   |\n",
            "|833   |[{1872, 10.558037}, {3333, 10.513016}, {2938, 10.445749}, {3905, 10.363117}, {3532, 10.269696}, {561, 10.232694}, {2830, 10.194458}, {2776, 10.150637}, {1696, 10.08812}, {320, 10.073979}, {1668, 9.978157}, {2689, 9.815807}, {3612, 9.802288}] |\n",
            "|5803  |[{2129, 13.1683855}, {3344, 12.599933}, {503, 12.424772}, {283, 11.746899}, {2765, 11.377051}, {1421, 10.536007}, {1572, 10.0681715}, {681, 9.914766}, {3892, 9.618811}, {1574, 9.541249}, {2586, 9.537175}, {1904, 9.422389}, {664, 9.287266}]   |\n",
            "|3794  |[{1872, 7.8769445}, {3150, 7.5479093}, {2482, 7.5052156}, {3092, 7.3771644}, {3338, 6.943238}, {1002, 6.9041133}, {3192, 6.8994045}, {3245, 6.8322515}, {1484, 6.761599}, {2185, 6.741631}, {2512, 6.704958}, {2342, 6.5683484}, {1539, 6.525991}]|\n",
            "|1645  |[{1846, 9.149769}, {2933, 8.883053}, {1455, 7.534213}, {1930, 7.4809294}, {632, 7.186431}, {2192, 7.104558}, {3847, 7.005081}, {2913, 6.947172}, {3492, 6.8470325}, {411, 6.8261957}, {876, 6.6755376}, {3775, 6.6666436}, {2776, 6.6542788}]     |\n",
            "|3175  |[{2776, 6.416817}, {2933, 6.206415}, {1455, 6.0939994}, {1846, 6.0711436}, {394, 6.067011}, {3830, 5.995908}, {2962, 5.9603195}, {3140, 5.9590254}, {1076, 5.8639665}, {2963, 5.858995}, {2820, 5.811654}, {2904, 5.7915325}, {506, 5.78037}]     |\n",
            "|4935  |[{184, 12.075165}, {3523, 10.893113}, {3349, 10.395461}, {2705, 9.427235}, {1002, 9.205667}, {1565, 9.204076}, {2758, 9.192043}, {3486, 9.188941}, {2931, 9.091816}, {1874, 9.033458}, {1773, 8.924132}, {2800, 8.874915}, {2342, 8.702946}]      |\n",
            "|496   |[{1846, 11.941363}, {2964, 10.871924}, {1879, 8.372451}, {2129, 7.977967}, {2933, 7.7873964}, {967, 7.578298}, {2562, 7.461653}, {2156, 7.197512}, {219, 7.1972723}, {1809, 7.19149}, {3775, 7.190054}, {2931, 7.106163}, {1534, 7.030258}]       |\n",
            "|2366  |[{1471, 7.9344397}, {1696, 7.121453}, {2342, 7.066873}, {2775, 6.3364873}, {2305, 6.2018423}, {2830, 6.0836945}, {980, 6.0653753}, {1458, 5.8254104}, {751, 5.8201036}, {2964, 5.7293587}, {214, 5.597238}, {1809, 5.532528}, {2056, 5.5204587}]  |\n",
            "|2866  |[{2964, 7.713451}, {2911, 7.0115175}, {1549, 6.7594714}, {3817, 6.5684795}, {238, 6.4796515}, {2904, 6.2499666}, {974, 6.142182}, {962, 6.091498}, {1421, 6.0373406}, {3759, 6.004812}, {3935, 6.0041165}, {2610, 5.971408}, {860, 5.9442616}]    |\n",
            "|5156  |[{3944, 7.7630625}, {1846, 7.2756863}, {2776, 7.033143}, {2904, 6.744878}, {962, 6.6597147}, {1455, 6.496005}, {1930, 6.4819093}, {2933, 6.3914824}, {106, 6.313973}, {2820, 6.2777114}, {3367, 6.2766385}, {2760, 6.27065}, {970, 6.237664}]     |\n",
            "+------+--------------------------------------------------------------------------------------------------------------------------------------------------------------------------------------------------------------------------------------------------+\n",
            "only showing top 20 rows\n",
            "\n"
          ],
          "name": "stdout"
        }
      ]
    },
    {
      "cell_type": "code",
      "metadata": {
        "colab": {
          "base_uri": "https://localhost:8080/"
        },
        "id": "1r7_xWIj1nC6",
        "outputId": "bd8a2474-0c9b-4f39-803f-25cc49a76340"
      },
      "source": [
        "userRecsExplode = userRecs.select(userRecs.userId,f.explode(userRecs.recommendations)).orderBy(userRecs.userId)\n",
        "userRecsExplode.show(20, False)"
      ],
      "execution_count": null,
      "outputs": [
        {
          "output_type": "stream",
          "text": [
            "+------+-----------------+\n",
            "|userId|col              |\n",
            "+------+-----------------+\n",
            "|1     |{831, 7.3106966} |\n",
            "|1     |{1666, 7.8047237}|\n",
            "|1     |{632, 8.264851}  |\n",
            "|1     |{2305, 7.3872104}|\n",
            "|1     |{2192, 8.426063} |\n",
            "|1     |{96, 7.083954}   |\n",
            "|1     |{2219, 6.9925656}|\n",
            "|1     |{1930, 8.415944} |\n",
            "|1     |{3490, 7.174725} |\n",
            "|1     |{2426, 7.6490207}|\n",
            "|1     |{2831, 7.599241} |\n",
            "|1     |{561, 7.8688364} |\n",
            "|1     |{2933, 7.769332} |\n",
            "|2     |{3532, 5.899361} |\n",
            "|2     |{561, 5.636262}  |\n",
            "|2     |{1695, 5.7109065}|\n",
            "|2     |{864, 6.7353077} |\n",
            "|2     |{1780, 5.7233067}|\n",
            "|2     |{3092, 6.0218434}|\n",
            "|2     |{3492, 5.783537} |\n",
            "+------+-----------------+\n",
            "only showing top 20 rows\n",
            "\n"
          ],
          "name": "stdout"
        }
      ]
    },
    {
      "cell_type": "code",
      "metadata": {
        "colab": {
          "base_uri": "https://localhost:8080/"
        },
        "id": "dAUfQeM-1nC6",
        "outputId": "144461cb-41a7-47c3-fcee-759a56229e96"
      },
      "source": [
        "\n",
        "movieRecs = model.recommendForAllItems(10)\n",
        "movieRecs.join(movieDetails,movieRecs.movieId==movieDetails.movieId,\"left\").select([movieRecs.movieId,movieDetails.title,movieDetails.genres,movieRecs.recommendations]).show(20,False)"
      ],
      "execution_count": null,
      "outputs": [
        {
          "output_type": "stream",
          "text": [
            "+-------+------------------------------------------+--------------------------------+--------------------------------------------------------------------------------------------------------------------------------------------------------------------------------------------+\n",
            "|movieId|title                                     |genres                          |recommendations                                                                                                                                                                             |\n",
            "+-------+------------------------------------------+--------------------------------+--------------------------------------------------------------------------------------------------------------------------------------------------------------------------------------------+\n",
            "|1580   |Men in Black (1997)                       |Action|Adventure|Comedy|Sci-Fi  |[{283, 5.2937593}, {3897, 5.2598047}, {5072, 5.1444917}, {2339, 5.1137643}, {3902, 5.1057076}, {1341, 5.0690293}, {2363, 5.0325427}, {4068, 5.031277}, {41, 5.015733}, {5218, 4.9958496}]   |\n",
            "|471    |Hudsucker Proxy, The (1994)               |Comedy|Romance                  |[{269, 7.903981}, {5214, 6.866672}, {2441, 6.694055}, {1596, 6.5423555}, {489, 6.494055}, {835, 6.392673}, {491, 6.3287463}, {3343, 6.3276443}, {5414, 6.2611647}, {589, 6.2528768}]        |\n",
            "|1591   |Spawn (1997)                              |Action|Adventure|Sci-Fi|Thriller|[{491, 6.720861}, {1596, 6.350092}, {2141, 5.985509}, {3508, 5.848505}, {2542, 5.753551}, {2392, 5.678127}, {4986, 5.575975}, {5642, 5.541224}, {269, 5.438381}, {4191, 5.4371877}]         |\n",
            "|1342   |Candyman (1992)                           |Horror                          |[{491, 7.7600207}, {1596, 7.6176634}, {6027, 6.7886057}, {3508, 6.617176}, {2141, 6.50863}, {5642, 6.485018}, {4191, 6.281877}, {4775, 6.226238}, {3587, 6.2103734}, {2549, 6.160121}]      |\n",
            "|2122   |Children of the Corn (1984)               |Horror|Thriller                 |[{2549, 7.5026717}, {1282, 7.4149265}, {1346, 7.185751}, {206, 7.1195207}, {3587, 7.012575}, {2040, 6.648504}, {4191, 6.4558926}, {2717, 6.373092}, {3844, 6.3574777}, {2441, 6.3375254}]   |\n",
            "|2142   |American Tail: Fievel Goes West, An (1991)|Animation|Children's|Comedy     |[{527, 7.4348006}, {4402, 7.205184}, {2549, 6.995924}, {1346, 6.8371367}, {1918, 6.71638}, {1282, 6.5774226}, {141, 6.297939}, {2717, 6.249289}, {3738, 6.195646}, {290, 6.1946115}]        |\n",
            "|463    |Guilty as Sin (1993)                      |Crime|Drama|Thriller            |[{41, 8.228208}, {2502, 7.681116}, {2816, 7.370808}, {4244, 7.277723}, {3052, 7.1441827}, {4565, 7.1200795}, {5244, 7.0860715}, {2819, 6.9996986}, {1462, 6.833225}, {417, 6.826701}]       |\n",
            "|833    |High School High (1996)                   |Comedy                          |[{2549, 7.58189}, {141, 6.835076}, {3587, 6.3936515}, {1664, 6.3783197}, {2040, 6.1404514}, {3113, 6.0542765}, {1083, 6.007559}, {3343, 5.9698753}, {1574, 5.928509}, {246, 5.862938}]      |\n",
            "|3794   |Chuck & Buck (2000)                       |Comedy|Drama                    |[{2549, 9.955001}, {491, 9.646109}, {527, 9.5061035}, {540, 9.462072}, {141, 9.353045}, {2040, 9.23728}, {2640, 9.232838}, {4974, 8.985751}, {1918, 8.837403}, {2019, 8.81757}]             |\n",
            "|1645   |Devil's Advocate, The (1997)              |Crime|Horror|Mystery|Thriller   |[{158, 5.9372034}, {2066, 5.852118}, {619, 5.821797}, {1830, 5.7895265}, {283, 5.761724}, {4583, 5.7434506}, {5863, 5.7401824}, {559, 5.67981}, {2141, 5.6285458}, {3522, 5.623182}]        |\n",
            "|3175   |Galaxy Quest (1999)                       |Adventure|Comedy|Sci-Fi         |[{4863, 6.069221}, {3897, 5.889455}, {41, 5.8723288}, {283, 5.5891204}, {269, 5.56474}, {5072, 5.547337}, {2467, 5.510961}, {101, 5.510236}, {430, 5.4880724}, {4912, 5.4776406}]           |\n",
            "|496    |What Happened Was... (1994)               |Comedy|Drama|Romance            |[{4427, 12.685402}, {87, 11.644274}, {5274, 11.496392}, {2534, 10.423872}, {5471, 10.3827505}, {5202, 10.302402}, {650, 10.234286}, {4441, 10.179874}, {1462, 10.155201}, {4542, 10.024413}]|\n",
            "|2366   |King Kong (1933)                          |Action|Adventure|Horror         |[{228, 7.1098967}, {1039, 6.4167867}, {1535, 6.369563}, {2902, 6.3243847}, {5590, 6.28549}, {1989, 6.194227}, {1412, 6.1163397}, {4896, 6.097123}, {3632, 6.011698}, {4792, 5.9955564}]     |\n",
            "|2866   |Buddy Holly Story, The (1978)             |Drama                           |[{3322, 5.674988}, {4996, 5.672802}, {2920, 5.641751}, {1557, 5.5834126}, {2510, 5.5747294}, {2139, 5.482186}, {4197, 5.466997}, {2313, 5.4326386}, {1327, 5.412552}, {906, 5.367458}]      |\n",
            "|148    |Awfully Big Adventure, An (1995)          |Drama                           |[{2977, 10.089024}, {4996, 10.026365}, {2920, 9.472494}, {4751, 9.407012}, {5863, 9.225242}, {4383, 9.101981}, {1327, 8.904525}, {1270, 8.784729}, {1379, 8.70155}, {745, 8.651184}]        |\n",
            "|1088   |Dirty Dancing (1987)                      |Musical|Romance                 |[{5297, 6.962393}, {4565, 6.682835}, {2502, 6.290997}, {2819, 6.2235665}, {3322, 6.1683435}, {2375, 6.1682935}, {5051, 6.130836}, {141, 6.1129827}, {4441, 6.11259}, {775, 6.0760207}]      |\n",
            "|1238   |Local Hero (1983)                         |Comedy                          |[{4676, 7.31242}, {228, 6.867041}, {527, 6.566416}, {3221, 6.446539}, {1341, 6.21464}, {2821, 6.1936855}, {2640, 6.097611}, {2044, 6.0742126}, {2970, 6.017341}, {332, 5.9850674}]          |\n",
            "|3918   |Hellbound: Hellraiser II (1988)           |Horror                          |[{559, 8.288125}, {5642, 8.046407}, {1445, 7.8902273}, {46, 7.877}, {3508, 7.516067}, {460, 7.364672}, {3772, 6.904845}, {3222, 6.904232}, {206, 6.8848615}, {5719, 6.79692}]               |\n",
            "|1829   |Chinese Box (1997)                        |Drama|Romance                   |[{1596, 11.038511}, {41, 9.761393}, {2813, 9.718345}, {3136, 9.1933975}, {3814, 8.914653}, {3617, 8.880489}, {3870, 8.712954}, {1529, 8.700856}, {4211, 8.466923}, {1554, 8.377788}]        |\n",
            "|1959   |Out of Africa (1985)                      |Drama|Romance                   |[{228, 8.319934}, {745, 7.7078476}, {4676, 7.474162}, {2821, 7.4466496}, {2384, 7.4335117}, {2855, 7.374415}, {3535, 7.3128643}, {5944, 7.076122}, {2816, 7.048355}, {417, 6.913455}]       |\n",
            "+-------+------------------------------------------+--------------------------------+--------------------------------------------------------------------------------------------------------------------------------------------------------------------------------------------+\n",
            "only showing top 20 rows\n",
            "\n"
          ],
          "name": "stdout"
        }
      ]
    },
    {
      "cell_type": "code",
      "metadata": {
        "colab": {
          "base_uri": "https://localhost:8080/"
        },
        "id": "U7qqhUKA22Y-",
        "outputId": "a9012205-d367-444e-b0b4-2d04acf4e17c"
      },
      "source": [
        "movieRecsExplode = movieRecs.select(movieRecs.movieId,f.explode(movieRecs.recommendations)).orderBy(movieRecs.movieId)\n",
        "movieRecsExplode.join(movieDetails,movieRecsExplode.movieId==movieDetails.movieId,\"left\").select([movieRecsExplode.movieId,movieDetails.title,movieDetails.genres,movieRecsExplode.col.alias('recommendation')]).show()"
      ],
      "execution_count": null,
      "outputs": [
        {
          "output_type": "stream",
          "text": [
            "+-------+--------------------+--------------------+-----------------+\n",
            "|movieId|               title|              genres|   recommendation|\n",
            "+-------+--------------------+--------------------+-----------------+\n",
            "|   1580| Men in Black (1997)|Action|Adventure|...| {283, 5.2937593}|\n",
            "|   1580| Men in Black (1997)|Action|Adventure|...|{3897, 5.2598047}|\n",
            "|   1580| Men in Black (1997)|Action|Adventure|...|{5072, 5.1444917}|\n",
            "|   1580| Men in Black (1997)|Action|Adventure|...|{2339, 5.1137643}|\n",
            "|   1580| Men in Black (1997)|Action|Adventure|...|{3902, 5.1057076}|\n",
            "|   1580| Men in Black (1997)|Action|Adventure|...|{1341, 5.0690293}|\n",
            "|   1580| Men in Black (1997)|Action|Adventure|...|{2363, 5.0325427}|\n",
            "|   1580| Men in Black (1997)|Action|Adventure|...| {4068, 5.031277}|\n",
            "|   1580| Men in Black (1997)|Action|Adventure|...|   {41, 5.015733}|\n",
            "|   1580| Men in Black (1997)|Action|Adventure|...|{5218, 4.9958496}|\n",
            "|    471|Hudsucker Proxy, ...|      Comedy|Romance|  {269, 7.903981}|\n",
            "|    471|Hudsucker Proxy, ...|      Comedy|Romance| {5214, 6.866672}|\n",
            "|    471|Hudsucker Proxy, ...|      Comedy|Romance| {2441, 6.694055}|\n",
            "|    471|Hudsucker Proxy, ...|      Comedy|Romance|{1596, 6.5423555}|\n",
            "|    471|Hudsucker Proxy, ...|      Comedy|Romance|  {489, 6.494055}|\n",
            "|    471|Hudsucker Proxy, ...|      Comedy|Romance|  {835, 6.392673}|\n",
            "|    471|Hudsucker Proxy, ...|      Comedy|Romance| {491, 6.3287463}|\n",
            "|    471|Hudsucker Proxy, ...|      Comedy|Romance|{3343, 6.3276443}|\n",
            "|    471|Hudsucker Proxy, ...|      Comedy|Romance|{5414, 6.2611647}|\n",
            "|    471|Hudsucker Proxy, ...|      Comedy|Romance| {589, 6.2528768}|\n",
            "+-------+--------------------+--------------------+-----------------+\n",
            "only showing top 20 rows\n",
            "\n"
          ],
          "name": "stdout"
        }
      ]
    },
    {
      "cell_type": "code",
      "metadata": {
        "colab": {
          "base_uri": "https://localhost:8080/"
        },
        "id": "6rt5Rv8N1nC7",
        "outputId": "82a06af0-1a59-4087-af7f-386b521d871f"
      },
      "source": [
        "\n",
        "singleUser = test_data.filter(test_data.userId==5300).select(['movieId','userId','rating'])\n",
        "singleUser.join(movieDetails,singleUser.movieId==movieDetails.movieId,\"left\").select([singleUser.userId,singleUser.movieId,singleUser.rating,movieDetails.title,movieDetails.genres]).show(20,False)"
      ],
      "execution_count": null,
      "outputs": [
        {
          "output_type": "stream",
          "text": [
            "+------+-------+------+-------------------------------------------------------------------------------+-----------------------------+\n",
            "|userId|movieId|rating|title                                                                          |genres                       |\n",
            "+------+-------+------+-------------------------------------------------------------------------------+-----------------------------+\n",
            "|5300  |34     |4     |Babe (1995)                                                                    |Children's|Comedy|Drama      |\n",
            "|5300  |125    |5     |Flirting With Disaster (1996)                                                  |Comedy                       |\n",
            "|5300  |224    |4     |Don Juan DeMarco (1995)                                                        |Comedy|Drama|Romance         |\n",
            "|5300  |235    |4     |Ed Wood (1994)                                                                 |Comedy|Drama                 |\n",
            "|5300  |363    |5     |Wonderful, Horrible Life of Leni Riefenstahl, The (Die Macht der Bilder) (1993)|Documentary                  |\n",
            "|5300  |471    |4     |Hudsucker Proxy, The (1994)                                                    |Comedy|Romance               |\n",
            "|5300  |514    |4     |Ref, The (1994)                                                                |Comedy                       |\n",
            "|5300  |608    |5     |Fargo (1996)                                                                   |Crime|Drama|Thriller         |\n",
            "|5300  |663    |4     |Kids in the Hall: Brain Candy (1996)                                           |Comedy                       |\n",
            "|5300  |924    |5     |2001: A Space Odyssey (1968)                                                   |Drama|Mystery|Sci-Fi|Thriller|\n",
            "|5300  |1020   |3     |Cool Runnings (1993)                                                           |Comedy                       |\n",
            "|5300  |1028   |4     |Mary Poppins (1964)                                                            |Children's|Comedy|Musical    |\n",
            "|5300  |1060   |5     |Swingers (1996)                                                                |Comedy|Drama                 |\n",
            "|5300  |1079   |2     |Fish Called Wanda, A (1988)                                                    |Comedy                       |\n",
            "|5300  |1080   |5     |Monty Python's Life of Brian (1979)                                            |Comedy                       |\n",
            "|5300  |1136   |5     |Monty Python and the Holy Grail (1974)                                         |Comedy                       |\n",
            "|5300  |1147   |5     |When We Were Kings (1996)                                                      |Documentary                  |\n",
            "|5300  |1178   |5     |Paths of Glory (1957)                                                          |Drama|War                    |\n",
            "|5300  |1179   |4     |Grifters, The (1990)                                                           |Crime|Drama|Film-Noir        |\n",
            "|5300  |1193   |5     |One Flew Over the Cuckoo's Nest (1975)                                         |Drama                        |\n",
            "+------+-------+------+-------------------------------------------------------------------------------+-----------------------------+\n",
            "only showing top 20 rows\n",
            "\n"
          ],
          "name": "stdout"
        }
      ]
    },
    {
      "cell_type": "code",
      "metadata": {
        "colab": {
          "base_uri": "https://localhost:8080/"
        },
        "id": "cYT_Kj_l1nC7",
        "outputId": "cde89ebc-2188-49d3-8461-f39ded563dea"
      },
      "source": [
        "userSubsetRecs = model.recommendForUserSubset(singleUser, 10)\n",
        "userSubsetRecsExplode = userSubsetRecs.select(userSubsetRecs.userId,f.explode(userSubsetRecs.recommendations))\n",
        "userSubsetRecsExplode.show()"
      ],
      "execution_count": null,
      "outputs": [
        {
          "output_type": "stream",
          "text": [
            "+------+-----------------+\n",
            "|userId|              col|\n",
            "+------+-----------------+\n",
            "|  5300|{2933, 6.2454147}|\n",
            "|  5300|{3862, 6.0543795}|\n",
            "|  5300| {557, 5.7669897}|\n",
            "|  5300|{2129, 5.7041345}|\n",
            "|  5300|{3416, 5.6975193}|\n",
            "|  5300|  {1232, 5.48309}|\n",
            "|  5300|{2963, 5.4634175}|\n",
            "|  5300|{1534, 5.4455986}|\n",
            "|  5300|{1076, 5.3692207}|\n",
            "|  5300|{1138, 5.3632603}|\n",
            "+------+-----------------+\n",
            "\n"
          ],
          "name": "stdout"
        }
      ]
    },
    {
      "cell_type": "code",
      "metadata": {
        "colab": {
          "base_uri": "https://localhost:8080/"
        },
        "id": "z9SYf7P51nC7",
        "outputId": "0fc958ea-daa4-493e-babe-3285197cb6f8"
      },
      "source": [
        "recommendations = model.transform(singleUser)\n",
        "userRecommendations= recommendations.orderBy('prediction',ascending=False)\n",
        "userRecommendations.show(20,False)"
      ],
      "execution_count": null,
      "outputs": [
        {
          "output_type": "stream",
          "text": [
            "+-------+------+------+----------+\n",
            "|movieId|userId|rating|prediction|\n",
            "+-------+------+------+----------+\n",
            "|608    |5300  |5     |5.0221515 |\n",
            "|1178   |5300  |5     |4.9657216 |\n",
            "|2019   |5300  |5     |4.962606  |\n",
            "|2997   |5300  |4     |4.9571986 |\n",
            "|3077   |5300  |5     |4.950061  |\n",
            "|1193   |5300  |5     |4.896202  |\n",
            "|924    |5300  |5     |4.891986  |\n",
            "|1147   |5300  |5     |4.868163  |\n",
            "|1228   |5300  |5     |4.8566456 |\n",
            "|3182   |5300  |5     |4.826264  |\n",
            "|363    |5300  |5     |4.789949  |\n",
            "|1136   |5300  |5     |4.7842155 |\n",
            "|2395   |5300  |5     |4.738474  |\n",
            "|1288   |5300  |5     |4.71871   |\n",
            "|1080   |5300  |5     |4.691609  |\n",
            "|2859   |5300  |4     |4.6670184 |\n",
            "|3091   |5300  |4     |4.634818  |\n",
            "|1214   |5300  |5     |4.6145015 |\n",
            "|1617   |5300  |4     |4.601555  |\n",
            "|2959   |5300  |4     |4.5337505 |\n",
            "+-------+------+------+----------+\n",
            "only showing top 20 rows\n",
            "\n"
          ],
          "name": "stdout"
        }
      ]
    },
    {
      "cell_type": "code",
      "metadata": {
        "colab": {
          "base_uri": "https://localhost:8080/"
        },
        "id": "gpimj39k1nC8",
        "outputId": "0b00a48d-c0de-4de8-8a29-ba48c00ee2e9"
      },
      "source": [
        "userRecommendations.join(movieDetails,userRecommendations.movieId==movieDetails.movieId,\"left\").select([userRecommendations.userId,movieDetails.title,movieDetails.genres,userRecommendations.prediction]).show(20,False)"
      ],
      "execution_count": null,
      "outputs": [
        {
          "output_type": "stream",
          "text": [
            "+------+-------------------------------------------------------------------------------+-----------------------------------+----------+\n",
            "|userId|title                                                                          |genres                             |prediction|\n",
            "+------+-------------------------------------------------------------------------------+-----------------------------------+----------+\n",
            "|5300  |Hudsucker Proxy, The (1994)                                                    |Comedy|Romance                     |4.4039907 |\n",
            "|5300  |Men in Black (1997)                                                            |Action|Adventure|Comedy|Sci-Fi     |3.615427  |\n",
            "|5300  |Fear and Loathing in Las Vegas (1998)                                          |Comedy|Drama                       |4.2510557 |\n",
            "|5300  |Groove (2000)                                                                  |Drama                              |2.8516483 |\n",
            "|5300  |Babe (1995)                                                                    |Children's|Comedy|Drama            |4.0248723 |\n",
            "|5300  |Prizzi's Honor (1985)                                                          |Comedy|Drama|Romance               |4.135227  |\n",
            "|5300  |Akira (1988)                                                                   |Adventure|Animation|Sci-Fi|Thriller|4.5120273 |\n",
            "|5300  |Breaker Morant (1980)                                                          |Drama|War                          |4.3670955 |\n",
            "|5300  |Moonstruck (1987)                                                              |Comedy                             |4.086223  |\n",
            "|5300  |Third Miracle, The (1999)                                                      |Drama                              |3.9809217 |\n",
            "|5300  |Star Wars: Episode VI - Return of the Jedi (1983)                              |Action|Adventure|Romance|Sci-Fi|War|3.681205  |\n",
            "|5300  |Kids in the Hall: Brain Candy (1996)                                           |Comedy                             |3.8407278 |\n",
            "|5300  |2001: A Space Odyssey (1968)                                                   |Drama|Mystery|Sci-Fi|Thriller      |4.891986  |\n",
            "|5300  |Don Juan DeMarco (1995)                                                        |Comedy|Drama|Romance               |3.6707244 |\n",
            "|5300  |This Is Spinal Tap (1984)                                                      |Comedy|Drama|Musical               |4.71871   |\n",
            "|5300  |Wonderful, Horrible Life of Leni Riefenstahl, The (Die Macht der Bilder) (1993)|Documentary                        |4.789949  |\n",
            "|5300  |Insider, The (1999)                                                            |Drama                              |4.3452168 |\n",
            "|5300  |Terrorist, The (Malli) (1998)                                                  |Drama                              |3.8495605 |\n",
            "|5300  |Arachnophobia (1990)                                                           |Action|Comedy|Sci-Fi|Thriller      |3.159299  |\n",
            "|5300  |X-Men (2000)                                                                   |Action|Sci-Fi                      |3.746272  |\n",
            "+------+-------------------------------------------------------------------------------+-----------------------------------+----------+\n",
            "only showing top 20 rows\n",
            "\n"
          ],
          "name": "stdout"
        }
      ]
    },
    {
      "cell_type": "code",
      "metadata": {
        "colab": {
          "base_uri": "https://localhost:8080/"
        },
        "id": "EDGphrzv1nC8",
        "outputId": "d4a17f2d-becb-469e-faec-80b8662d8112"
      },
      "source": [
        "\n",
        "singleMovie = test_data.filter(test_data.movieId==1).select(['movieId','userId'])\n",
        "singleMovie.join(movieDetails,singleMovie.movieId==movieDetails.movieId,\"left\").select([singleMovie.movieId,movieDetails.title,movieDetails.genres,singleMovie.userId]).show(20,False)\n"
      ],
      "execution_count": null,
      "outputs": [
        {
          "output_type": "stream",
          "text": [
            "+-------+----------------+---------------------------+------+\n",
            "|movieId|title           |genres                     |userId|\n",
            "+-------+----------------+---------------------------+------+\n",
            "|1      |Toy Story (1995)|Animation|Children's|Comedy|1     |\n",
            "|1      |Toy Story (1995)|Animation|Children's|Comedy|8     |\n",
            "|1      |Toy Story (1995)|Animation|Children's|Comedy|18    |\n",
            "|1      |Toy Story (1995)|Animation|Children's|Comedy|38    |\n",
            "|1      |Toy Story (1995)|Animation|Children's|Comedy|49    |\n",
            "|1      |Toy Story (1995)|Animation|Children's|Comedy|65    |\n",
            "|1      |Toy Story (1995)|Animation|Children's|Comedy|90    |\n",
            "|1      |Toy Story (1995)|Animation|Children's|Comedy|112   |\n",
            "|1      |Toy Story (1995)|Animation|Children's|Comedy|119   |\n",
            "|1      |Toy Story (1995)|Animation|Children's|Comedy|121   |\n",
            "|1      |Toy Story (1995)|Animation|Children's|Comedy|134   |\n",
            "|1      |Toy Story (1995)|Animation|Children's|Comedy|149   |\n",
            "|1      |Toy Story (1995)|Animation|Children's|Comedy|151   |\n",
            "|1      |Toy Story (1995)|Animation|Children's|Comedy|152   |\n",
            "|1      |Toy Story (1995)|Animation|Children's|Comedy|168   |\n",
            "|1      |Toy Story (1995)|Animation|Children's|Comedy|169   |\n",
            "|1      |Toy Story (1995)|Animation|Children's|Comedy|181   |\n",
            "|1      |Toy Story (1995)|Animation|Children's|Comedy|182   |\n",
            "|1      |Toy Story (1995)|Animation|Children's|Comedy|190   |\n",
            "|1      |Toy Story (1995)|Animation|Children's|Comedy|198   |\n",
            "+-------+----------------+---------------------------+------+\n",
            "only showing top 20 rows\n",
            "\n"
          ],
          "name": "stdout"
        }
      ]
    }
  ]
}